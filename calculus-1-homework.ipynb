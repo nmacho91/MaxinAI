{
 "cells": [
  {
   "cell_type": "code",
   "execution_count": null,
   "metadata": {},
   "outputs": [],
   "source": [
    "%load_ext autoreload\n",
    "%autoreload 2\n",
    "\n",
    "%matplotlib inline"
   ]
  },
  {
   "cell_type": "markdown",
   "metadata": {},
   "source": [
    "## Basic setup"
   ]
  },
  {
   "cell_type": "markdown",
   "metadata": {},
   "source": [
    "Create anaconda environment\n",
    "<br>\n",
    "```bash\n",
    "conda create -n ml python=3.7.4 jupyter\n",
    "```\n",
    "Install fastai library\n",
    "<br>\n",
    "```bash\n",
    "conda install -c pytorch -c fastai fastai\n",
    "```"
   ]
  },
  {
   "cell_type": "code",
   "execution_count": null,
   "metadata": {},
   "outputs": [],
   "source": [
    "!pip install https://github.com/ipython-contrib/jupyter_contrib_nbextensions/tarball/master\n",
    "!pip install jupyter_nbextensions_configurator\n",
    "!jupyter contrib nbextension install --user\n",
    "!jupyter nbextensions_configurator enable --user"
   ]
  },
  {
   "cell_type": "markdown",
   "metadata": {},
   "source": [
    "# Metric spaces"
   ]
  },
  {
   "cell_type": "markdown",
   "metadata": {},
   "source": [
    "#### Prove that:\n",
    "For every metric space (X, d):\n",
    "- For eny $\\mathcal{U} = \\{U | U$ is open in $(X, d)\\}$ holds $\\bigcup_{U \\in \\mathcal{U}} U$ is open in $(X, d)$\n",
    "- For eny two $U, V \\subset X$ open in $(X, d)$ holds: $U \\cap V$ is open in $(X, d)$\n",
    "- $X$ is open in $(X, d)$\n",
    "- $\\emptyset$ is open in $(X, d)$\n"
   ]
  },
  {
   "cell_type": "markdown",
   "metadata": {},
   "source": [
    "1) Every point from  $\\bigcup_{U \\in \\mathcal{U}} U$  is contained in one of the open sets, so there is a neigbourhood of $x$ in the union. Therefore, arbitrary union of open sets is open.\n",
    "\n",
    "2) For $x \\in U\\cap V$ we can find $ B(x,r)\\in U $ and $ B(x,l)\\in V $. $ B(x,min(r,l))\\in U\\cap V $ , So intersection of two open sets is open.\n",
    "\n",
    "3) For each $x \\in X $ every neigbourhood is contained in $X$, so $X$ is open.\n",
    "\n",
    "4) For every element of empty set (which is nothing) exists neigbourhood contained in empty set. \n"
   ]
  },
  {
   "cell_type": "markdown",
   "metadata": {},
   "source": [
    "#### Prove that:\n",
    "- For eny finity set $(U)_{i=1}^{n}$ of open sets in $(X, d)$, $\\bigcap_{i=1}^{n}U$ is open in $(X, d)$\n"
   ]
  },
  {
   "cell_type": "markdown",
   "metadata": {},
   "source": [
    "#### Proof \n",
    "\n",
    "We already showed that intersection of two open sets is open. Using mathematical induction we can generalize the result for any finite intersection ($\\bigcap_{i=1}^{n}U_i= \\bigcap_{i=1}^{n-1}U_i\\bigcap U_n$)."
   ]
  },
  {
   "cell_type": "markdown",
   "metadata": {},
   "source": [
    "#### Prove that for set $U \\subset X$ is open if and only if for each point $x \\in U$ there exists the open neighbourhood $V$ of $x$ such that $V \\subset U$\n"
   ]
  },
  {
   "cell_type": "markdown",
   "metadata": {},
   "source": [
    "#### Proof:\n",
    "For each  $x \\in U$ we can find $B(x,r) \\in U$ , which is a neighbourhood. Conversely, every neighbourhood (which is open by definition) contains ball around $x$.\n"
   ]
  },
  {
   "cell_type": "markdown",
   "metadata": {},
   "source": [
    "#### Prove that, closed ball is closed subset in $(X, d)$\n",
    "\n"
   ]
  },
  {
   "cell_type": "markdown",
   "metadata": {},
   "source": [
    "#### Proof:\n",
    " Take any point $y$ in the complement $C$ of closed ball. Let $R = d(x,y)$. Then, $B(y,(R-r)/2) \\in C $ (by triangle inequality). So, complement of closed ball is open."
   ]
  },
  {
   "cell_type": "markdown",
   "metadata": {},
   "source": [
    "#### Prove that\n",
    "For every metric space (X, d):\n",
    "- For eny $\\mathcal{F} = \\{F | F$ is closed in $(X, d)\\}$ holds $\\bigcap_{F \\in \\mathcal{F}} F$ is closed in $(X, d)$\n",
    "- For eny two $F_1, F_2 \\subset X$ closed in $(X, d)$ holds: $F_1 \\cup F_2$ is closed in $(X, d)$\n",
    "- $X$ is closed in $(X, d)$\n",
    "- $\\emptyset$ is closed in $(X, d)$\n"
   ]
  },
  {
   "cell_type": "markdown",
   "metadata": {},
   "source": [
    "1) Using De Morgan Law $X - \\bigcap_{F \\in \\mathcal{F}} F$ = $ \\bigcup_{F \\in \\mathcal{F}} (X-F) $ which is open (as union of open sets)\n",
    "\n",
    "2) Using De Morgan Law $X - F_1 \\cup F_2  = (X-F_1)  \\cap (X-F_2) $ which is open (as intersection of two open sets)\n",
    "\n",
    "3) and 4)  Already proved that $X$ and $\\emptyset$ are open, so complements are closed and we get the same sets."
   ]
  },
  {
   "cell_type": "markdown",
   "metadata": {},
   "source": [
    "#### Prove that:\n",
    "- For eny finity set $(F)_{i=1}^{n}$ of closed sets in $(X, d)$, $\\bigcup_{i=1}^{n}F$ is closed in $(X, d)$\n"
   ]
  },
  {
   "cell_type": "markdown",
   "metadata": {},
   "source": [
    "#### Proof:\n",
    "Already proved for two sets, use induction for finite union. ($\\bigcup_{i=1}^{n}F= \\bigcup_{i=1}^{n-1}F \\bigcup F_n$)"
   ]
  },
  {
   "cell_type": "markdown",
   "metadata": {},
   "source": [
    "#### Prove that, if $F \\subset X$ is closed then $X - F$ is open in $(X, d)$ \n"
   ]
  },
  {
   "cell_type": "markdown",
   "metadata": {},
   "source": [
    "#### Proof:\n",
    "Closed set is  complement of open set. Complement of complement is itself, so complement of closed set is open."
   ]
  },
  {
   "cell_type": "markdown",
   "metadata": {},
   "source": [
    "# Metrics in Euclidean spaces"
   ]
  },
  {
   "cell_type": "markdown",
   "metadata": {},
   "source": [
    "#### Prove that:\n",
    "- for every $u, v \\in \\mathbb{R}^{n}$: $d(u, v) \\geq 0$\n",
    "- for every $v \\in \\mathbb{R}^{n}$: $d(v, v) = 0$\n",
    "- for every $u, v \\in \\mathbb{R}^{n}$: $d(u, v) = d(v, u)$ (symmetry)\n",
    "- for every $u, v, w \\in \\mathbb{R}^{n}$: $d(u, w) \\leq d(v, u) + d(v, w)$ (triangle inequality)\n"
   ]
  },
  {
   "cell_type": "markdown",
   "metadata": {},
   "source": [
    "#### Proof\n",
    "\n",
    "1) Sum of squares is nonnegative and square root from any nonnegative number is nonnegative, so distance is nonnegative.\n",
    "\n",
    "2) Sum of zeros is zero and square root of zero is zero.\n",
    "\n",
    "3) $(u_i - v_i)^2= (v_i-u_i)^2 $  \n",
    "\n",
    "4) Square both sides and use Cauchy - Schwarz inequality ( $(\\sum_{i = 1}^{n}a_i^2 )  (\\sum_{i = 1}^{n} b_i^2 )>= (\\sum_{i = 1}^{n}a_ib_i)^2$ )"
   ]
  },
  {
   "cell_type": "markdown",
   "metadata": {},
   "source": [
    "#### Prove the same properties hold for $d(u, v) = ||u-v||_1$ ($||u-v||_1 = \\sum_{i = 1}^{n}|u_i - v_i|$)\n",
    "\n"
   ]
  },
  {
   "cell_type": "markdown",
   "metadata": {},
   "source": [
    "#### Proof\n",
    "\n",
    "1) Sum of absolute values is nonegative\n",
    "\n",
    "2) Sum of zeros is zero\n",
    "\n",
    "3) $|u_i-v_i|=|v_i-u_i|$\n",
    "\n",
    "4) Triangle inequality holds for each coordinate (1-dimentional euclidean distance), therefore it holds for the sum.  "
   ]
  },
  {
   "cell_type": "markdown",
   "metadata": {},
   "source": [
    "## Sequences and limits"
   ]
  },
  {
   "cell_type": "markdown",
   "metadata": {},
   "source": [
    "#### Prove that $x = \\lim_{n\\to\\infty}{x_n}$ in $(X, d)$ if and only if (iff) for every $r \\in \\mathbb{R}$ there exists $n_0 \\in \\mathbb{N}$ such that: $x_i \\in B(x, r)$ for every $i \\gt n_0$"
   ]
  },
  {
   "cell_type": "markdown",
   "metadata": {},
   "source": [
    "#### Prove that if $x = \\lim_{n\\to\\infty}{x_n}$ and $x \\notin \\{-\\infty, \\infty\\}$ then $(x_i)_{i=1}^{\\infty} = (x_1, x_2, \\dots, x_n)$ is a Cauchy sequence\n",
    "<br>\n",
    "For closed set $F \\subset \\mathbb{R}^n$ and convergent sequence $(x_i)_{i=1}^{\\infty} = (x_1, x_2, \\dots, x_n)$ such that there exists $n_0 \\in \\mathbb{N}$ such that $x_i \\in F$ for each $i \\gt n_0$ then: $\\lim_{n\\to\\infty}{x_n} \\in F$"
   ]
  },
  {
   "cell_type": "markdown",
   "metadata": {},
   "source": [
    "#### Prove that if $F$ is open from previous example, statement does not hold. \n"
   ]
  },
  {
   "cell_type": "markdown",
   "metadata": {},
   "source": [
    "#### Proof:\n",
    "Counter example would be:  $ F = (0,1) $ and $ x_n = 1- 1/2^n $. Limit of the sequence is 1 ($ F $ doesnt contain 1)."
   ]
  },
  {
   "cell_type": "markdown",
   "metadata": {},
   "source": [
    "#### Prove that inherited metric is a metric\n"
   ]
  },
  {
   "cell_type": "markdown",
   "metadata": {},
   "source": [
    "#### proof\n",
    "All axioms hold for whole set, they hold for subset too."
   ]
  },
  {
   "cell_type": "markdown",
   "metadata": {},
   "source": [
    "## Limits of functions"
   ]
  },
  {
   "cell_type": "markdown",
   "metadata": {},
   "source": [
    "Let $f:S \\to Y$ is function between subset $S \\subset X$ of a metric space $(X, d_x)$ and metric space $(Y, d_Y)$\n",
    "- We say that the limit of function $f:(S, d_x) \\to (Y, d_Y)$ between metric spaces in some limit point $c \\in X$ of the subset $S$ is $y \\in Y $if for each open neighborhood of $y \\in V \\subset Y$ there exists the open seighborhood of $c \\in U \\subset X$ such that $f(U \\cap S) \\subset V$\n",
    "<br>\n",
    "This definition is equiualent of definition:\n",
    "<br>\n",
    "- The limit of function $f:(S, d_X) \\to (Y, d_Y)$ between metric spaces in limit point $c \\in X$ of the subset $S$ is $y \\in Y $ if for each open ball $B(x, r) \\subset Y$ there exists the ball $B(c, l) \\subset X$ such that $f(B(c, l) \\cap S) \\subset B(y, r)$\n",
    "<br>\n",
    "or\n",
    "<br>\n",
    "- The limit of function $f:(S, d_X) \\to (Y, d_Y)$ between metric spaces in limit point $c \\in X$ of subset $S$ is $y \\in Y $ if for any $r \\in \\mathbb{R}$ there exists $l \\in \\mathbb{R}$ such that for every $x \\in S$ with $d_X(x, c) < l$ implies that $d_Y(f(x), y) < r$\n",
    "\n"
   ]
  },
  {
   "cell_type": "markdown",
   "metadata": {},
   "source": []
  },
  {
   "cell_type": "markdown",
   "metadata": {},
   "source": [
    "#### Prove that this three definitions are equiualent for eny function between eny two metric spaces\n"
   ]
  },
  {
   "cell_type": "markdown",
   "metadata": {},
   "source": [
    "#### Proof\n",
    "$1 => 2$\n",
    "\n",
    "If first statement is true for any open neigbourhood, it is also true for open balls (balls are open neigbourhoods).\n",
    "\n",
    "$2=>1$\n",
    "\n",
    "Every  open neigbourhood $V$ of $y$ contains a ball $B(y,r)$. We can find $B(c,l)$ , such that  $f(B(c, l) \\cap S) \\subset B(y, r)$. $B(c,l)$ is open neigbourhood of $c$ (denote by $U$). Then,  $f(U \\cap S) \\subset V$\n",
    "\n",
    "$2<=>3$\n",
    "\n",
    "Set of $x \\in S$ with $d_X(x, c) < l = B(c,l) \\cap S $ and all $y,  d_Y(f(x), y) < r = B(y,r)$ . So, statements are equivalent.\n",
    "\n",
    "\n"
   ]
  },
  {
   "cell_type": "markdown",
   "metadata": {},
   "source": [
    "## Continuous functions "
   ]
  },
  {
   "cell_type": "markdown",
   "metadata": {},
   "source": [
    "#### Prove that function is continuous in $c$ if for eny sequence $(x_n)_{n=1}^{\\infty} \\subset X$ such that $\\lim_{n \\to \\infty}x_n = c$ we have $\\lim_{n \\to \\infty}f(x_n) = f(c)$"
   ]
  },
  {
   "cell_type": "markdown",
   "metadata": {},
   "source": [
    "#### Proof\n",
    "Suppose contrary: $ f $ isnt continuous in c. Then there exists $ B(f(c),r) $ for which we cant find $ B(c,l)$  with image in $ B(f(c),r)$. Take sequance of balls : $B(c, 1/n)$ $n = 1,2...$  . For Each ball we can find point for which image is out of $ B(f(c),r) $. those points have limit c but images dont converge to $ f(c) $ (are out of $r$  radius ball). We get a contradiction."
   ]
  },
  {
   "cell_type": "markdown",
   "metadata": {},
   "source": [
    "#### Prove that function is continuous if for every open set $V \\subset Y$ the $f^{-1}(V)$ is open in $X$\n"
   ]
  },
  {
   "cell_type": "markdown",
   "metadata": {},
   "source": [
    "#### Proof\n",
    "Lets $c$ be a point in $X$. For every neigbourhood $V$ of $f(c)$, preimage is open set and contains $c$. So, we can find open ball around $c$ with image in $V$, hence $f$ is continuous. \n"
   ]
  },
  {
   "cell_type": "markdown",
   "metadata": {},
   "source": [
    "#### Prove that function is continuous if for every closed set $F \\subset Y$ the $f^{-1}(F)$ is open in $X$\n"
   ]
  },
  {
   "cell_type": "markdown",
   "metadata": {},
   "source": [
    "#### Proof\n",
    "Closed set is a complement of open set ($F=Y-U $). $f^{-1}(Y-U)=X-f^{-1}(U)$. As we showed in last example, preimage of open set is open, so complement of preimage of open set is closed. "
   ]
  },
  {
   "cell_type": "markdown",
   "metadata": {},
   "source": [
    "#### Prove that any composition of continous functions is continous\n"
   ]
  },
  {
   "cell_type": "markdown",
   "metadata": {},
   "source": [
    "#### Proof\n",
    "Let $f$ be a continuous function from $X$ to $Y$ and $g$ be a continuous function from $Y$ to $Z$. Composition function carries elements of $X$ to $Z$. For every open set in $Z$ preimage of $g$ is open in $Y$ and preimage of that open set of  $f$ is open in $X$. So, Preimage of any open set in $Z$ of composition function is open in $X$ which implies continuity.  "
   ]
  },
  {
   "cell_type": "code",
   "execution_count": null,
   "metadata": {},
   "outputs": [],
   "source": []
  }
 ],
 "metadata": {
  "kernelspec": {
   "display_name": "Python 3",
   "language": "python",
   "name": "python3"
  },
  "language_info": {
   "codemirror_mode": {
    "name": "ipython",
    "version": 3
   },
   "file_extension": ".py",
   "mimetype": "text/x-python",
   "name": "python",
   "nbconvert_exporter": "python",
   "pygments_lexer": "ipython3",
   "version": "3.7.3"
  }
 },
 "nbformat": 4,
 "nbformat_minor": 4
}
